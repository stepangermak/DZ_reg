{
 "cells": [
  {
   "cell_type": "markdown",
   "metadata": {},
   "source": [
    "Задание 1\n",
    "Напишите функцию, которая принимает на вход строку и проверяет является ли она валидным транспортным номером (1 буква, 3 цифры, 2 буквы, 2-3 цифры). Обратите внимание, что не все буквы кириллического алфавита используются в транспортных номерах.\n",
    "\n",
    "Если номер валиден, то функция должна возвращать отдельно номер и регион."
   ]
  },
  {
   "cell_type": "code",
   "execution_count": 2,
   "metadata": {},
   "outputs": [],
   "source": [
    "import re"
   ]
  },
  {
   "cell_type": "code",
   "execution_count": 86,
   "metadata": {},
   "outputs": [
    {
     "data": {
      "text/plain": [
       "'Номер А222ВС96 валиден. Регион: 96'"
      ]
     },
     "execution_count": 86,
     "metadata": {},
     "output_type": "execute_result"
    }
   ],
   "source": [
    "def nomer(car_id):\n",
    "    result = re.match(r'[АВЕКМНОРСТУХ][\\d]{3}[АВЕКМНОРСТУХ]{2}(\\d{2,4})', car_id)\n",
    "    if result:\n",
    "        return f\"Номер {result.group()} валиден. Регион: {result[1]}\"\n",
    "    else:\n",
    "        return 'Номер не валиден'\n",
    "                    \n",
    "nomer('А222ВС96')"
   ]
  },
  {
   "cell_type": "markdown",
   "metadata": {},
   "source": [
    "Напишите функцию, которая будет удалять все последовательные повторы слов из заданной строки при помощи регулярных выражений."
   ]
  },
  {
   "cell_type": "code",
   "execution_count": 89,
   "metadata": {},
   "outputs": [
    {
     "name": "stdout",
     "output_type": "stream",
     "text": [
      "Напишите функцию которая будет удалять все последовательные повторы слов из заданной строки при помощи регулярных выражений\n"
     ]
    }
   ],
   "source": [
    "def repeat():\n",
    "    \"\"\"\n",
    "    re.sub(r'\\W+', ' ', s).strip() - заменяет 1 и более символов, отличных от букв, цифр и знаков подчёркивания, на один пробел\n",
    "    \\b([^\\W\\d_]+)(\\s+\\1)+\\b - находит и захватывает в подмаску №1 слово (последовательность 1 и более букв в границах слова), после которого следует 1 и более повторов 1+ пробельных символов и такое же слово (\\1 - обратная ссылка на значение подмаски №1), за которыми следует граница слова\n",
    "    r'\\1' - заменяет найденное совпадение единичным экземпляром найденного слова (значение подмаски №1)\n",
    "    flags=re.I - включает регистронезависимый поиск текста\n",
    "    \n",
    "    \"\"\"\n",
    "    some_string = 'Напишите функцию функцию, которая будет будет будет будет удалять все все все все последовательные повторы слов из из из из заданной строки строки при помощи регулярных выражений.'\n",
    "    print( re.sub(r'\\b([^\\W\\d_]+)(\\s+\\1)+\\b', r'\\1', re.sub(r'\\W+', ' ', some_string).strip(), flags=re.I) )\n",
    "    \n",
    "repeat()"
   ]
  },
  {
   "cell_type": "markdown",
   "metadata": {},
   "source": [
    "Напишите функцию, которая будет возвращать акроним по переданной в нее строке со словами."
   ]
  },
  {
   "cell_type": "code",
   "execution_count": 162,
   "metadata": {},
   "outputs": [
    {
     "data": {
      "text/plain": [
       "'NFC'"
      ]
     },
     "execution_count": 162,
     "metadata": {},
     "output_type": "execute_result"
    }
   ],
   "source": [
    "def akr(some_words):\n",
    "    a = re.split(r'\\w\\s', some_words)\n",
    "    b = []\n",
    "    for i in a:\n",
    "        b.append(i[0].upper())\n",
    "    return str(''.join(b))\n",
    "                   \n",
    "akr('Near Field Communication')"
   ]
  },
  {
   "cell_type": "markdown",
   "metadata": {},
   "source": [
    "Напишите функцию, которая будет принимать на вход список email-адресов и выводить их распределение по доменным зонам."
   ]
  },
  {
   "cell_type": "code",
   "execution_count": 27,
   "metadata": {},
   "outputs": [
    {
     "name": "stdout",
     "output_type": "stream",
     "text": [
      "gmail.com: 2\n",
      "test.in: 1\n",
      "ya.ru: 2\n",
      "mail.ru: 1\n"
     ]
    }
   ],
   "source": [
    "def email(emails):\n",
    "    result = re.findall(r'\\@(\\w+.\\w+)', str(emails))\n",
    "    email_2 = {}\n",
    "    for domen in result:\n",
    "        if domen in email_2.keys():\n",
    "            email_2[domen] += 1\n",
    "        else:\n",
    "            email_2.update({domen:1})\n",
    "    for k, v in email_2.items():\n",
    "        print(f'{k}: {v}')\n",
    "    \n",
    "email(['test@gmail.com', 'xyz@test.in', 'test@ya.ru', 'xyz@mail.ru', 'xyz@ya.ru', 'xyz@gmail.com'])"
   ]
  }
 ],
 "metadata": {
  "kernelspec": {
   "display_name": "Python 3",
   "language": "python",
   "name": "python3"
  },
  "language_info": {
   "codemirror_mode": {
    "name": "ipython",
    "version": 3
   },
   "file_extension": ".py",
   "mimetype": "text/x-python",
   "name": "python",
   "nbconvert_exporter": "python",
   "pygments_lexer": "ipython3",
   "version": "3.8.3"
  }
 },
 "nbformat": 4,
 "nbformat_minor": 4
}
